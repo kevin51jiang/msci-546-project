{
 "cells": [
  {
   "cell_type": "markdown",
   "id": "3f224818",
   "metadata": {
    "papermill": {
     "duration": 0.038869,
     "end_time": "2024-03-01T10:14:18.426992",
     "exception": false,
     "start_time": "2024-03-01T10:14:18.388123",
     "status": "completed"
    },
    "tags": []
   },
   "source": [
    "## Fine-tune Gemma 7B it for Sentiment Analysis\n",
    "\n",
    "For this hands-on tutorial on fine-tuning a Gemma 7B it, we are going to deal with a sentiment analysis on financial and economic information. Sentiment analysis on financial and economic information is highly relevant for businesses for several key reasons, ranging from market insights (gain valuable insights into market trends, investor confidence, and consumer behavior) to risk management (identifying potential reputational risks) to investment decisions (gauging the sentiment of stakeholders, investors, and the general public businesses can assess the potential success of various investment opportunities).\n",
    "\n",
    "Before the technicalities of fine-tuning a large language model like Gemma, we had to find the correct dataset to demonstrate the potentialities of fine-tuning.\n",
    "\n",
    "Particularly within the realm of finance and economic texts, annotated datasets are notably rare, with many being exclusively reserved for proprietary purposes. To address the issue of insufficient training data, scholars from the Aalto University School\n",
    "of Business introduced in 2014 a set of approximately 5000 sentences. This collection aimed to establish human-annotated benchmarks, serving as a standard for evaluating alternative modeling techniques. The involved annotators (16 people with\n",
    "adequate background knowledge on financial markets) were instructed to assess the sentences solely from the perspective of an investor, evaluating whether the news potentially holds a positive, negative, or neutral impact on the stock price.\n",
    "\n",
    "The FinancialPhraseBank dataset is a comprehensive collection that captures the sentiments of financial news headlines from the viewpoint of a retail investor. Comprising two key columns, namely \"Sentiment\" and \"News Headline,\" the dataset effectively classifies sentiments as either negative, neutral, or positive. This structured dataset serves as a valuable resource for analyzing and understanding the complex dynamics of sentiment in the domain of financial news. It has been used in various studies and research initiatives, since its inception in the work by Malo, P., Sinha, A., Korhonen, P., Wallenius, J., and Takala, P.  \"Good debt or bad debt: Detecting semantic orientations in economic texts.\", published in the Journal of the Association for Information Science and Technology in 2014."
   ]
  },
  {
   "cell_type": "markdown",
   "id": "e3cd4a98",
   "metadata": {
    "papermill": {
     "duration": 0.03698,
     "end_time": "2024-03-01T10:14:18.502768",
     "exception": false,
     "start_time": "2024-03-01T10:14:18.465788",
     "status": "completed"
    },
    "tags": []
   },
   "source": [
    "As a first step, we install the specific libraries necessary to make this example work.\n",
    "\n",
    "* accelerate is a distributed training library for PyTorch by HuggingFace. It allows you to train your models on multiple GPUs or CPUs in parallel (distributed configurations), which can significantly speed up training in presence of multiple GPUs (we won't use it in our example).\n",
    "* peft is a Python library by HuggingFace for efficient adaptation of pre-trained language models (PLMs) to various downstream applications without fine-tuning all the model's parameters. PEFT methods only fine-tune a small number of (extra) model parameters, thereby greatly decreasing the computational and storage costs.\n",
    "* bitsandbytes by Tim Dettmers, is a lightweight wrapper around CUDA custom functions, in particular 8-bit optimizers, matrix multiplication (LLM.int8()), and quantization functions. It allows to run models stored in 4-bit precision: while 4-bit bitsandbytes stores weights in 4-bits, the computation still happens in 16 or 32-bit and here any combination can be chosen (float16, bfloat16, float32, and so on).\n",
    "* transformers is a Python library for natural language processing (NLP). It provides a number of pre-trained models for NLP tasks such as text classification, question answering, and machine translation.\n",
    "* trl is a full stack library by HuggingFace providing a set of tools to train transformer language models with Reinforcement Learning, from the Supervised Fine-tuning step (SFT), Reward Modeling step (RM) to the Proximal Policy Optimization (PPO) step."
   ]
  },
  {
   "cell_type": "code",
   "execution_count": 1,
   "id": "0a8b7f5c",
   "metadata": {
    "ExecuteTime": {
     "end_time": "2024-03-02T06:25:19.768328Z",
     "start_time": "2024-03-02T06:25:16.741286Z"
    },
    "execution": {
     "iopub.execute_input": "2024-03-01T10:14:18.579075Z",
     "iopub.status.busy": "2024-03-01T10:14:18.578724Z",
     "iopub.status.idle": "2024-03-01T10:14:33.193454Z",
     "shell.execute_reply": "2024-03-01T10:14:33.192187Z"
    },
    "papermill": {
     "duration": 14.65561,
     "end_time": "2024-03-01T10:14:33.195932",
     "exception": false,
     "start_time": "2024-03-01T10:14:18.540322",
     "status": "completed"
    },
    "tags": []
   },
   "outputs": [
    {
     "name": "stdout",
     "output_type": "stream",
     "text": [
      "\n",
      "\u001b[1m[\u001b[0m\u001b[34;49mnotice\u001b[0m\u001b[1;39;49m]\u001b[0m\u001b[39;49m A new release of pip is available: \u001b[0m\u001b[31;49m23.2.1\u001b[0m\u001b[39;49m -> \u001b[0m\u001b[32;49m24.0\u001b[0m\n",
      "\u001b[1m[\u001b[0m\u001b[34;49mnotice\u001b[0m\u001b[1;39;49m]\u001b[0m\u001b[39;49m To update, run: \u001b[0m\u001b[32;49mpip install --upgrade pip\u001b[0m\n"
     ]
    }
   ],
   "source": [
    "!pip install -q -U torch --index-url https://download.pytorch.org/whl/cu117"
   ]
  },
  {
   "cell_type": "code",
   "execution_count": 2,
   "id": "2ffa8693",
   "metadata": {
    "ExecuteTime": {
     "end_time": "2024-03-02T06:25:49.028218Z",
     "start_time": "2024-03-02T06:25:19.770453Z"
    },
    "execution": {
     "iopub.execute_input": "2024-03-01T10:14:33.281388Z",
     "iopub.status.busy": "2024-03-01T10:14:33.280972Z",
     "iopub.status.idle": "2024-03-01T10:16:15.418728Z",
     "shell.execute_reply": "2024-03-01T10:16:15.417478Z"
    },
    "papermill": {
     "duration": 102.186437,
     "end_time": "2024-03-01T10:16:15.421289",
     "exception": false,
     "start_time": "2024-03-01T10:14:33.234852",
     "status": "completed"
    },
    "tags": []
   },
   "outputs": [
    {
     "name": "stdout",
     "output_type": "stream",
     "text": [
      "\n",
      "\u001b[1m[\u001b[0m\u001b[34;49mnotice\u001b[0m\u001b[1;39;49m]\u001b[0m\u001b[39;49m A new release of pip is available: \u001b[0m\u001b[31;49m23.2.1\u001b[0m\u001b[39;49m -> \u001b[0m\u001b[32;49m24.0\u001b[0m\n",
      "\u001b[1m[\u001b[0m\u001b[34;49mnotice\u001b[0m\u001b[1;39;49m]\u001b[0m\u001b[39;49m To update, run: \u001b[0m\u001b[32;49mpip install --upgrade pip\u001b[0m\n",
      "\n",
      "\u001b[1m[\u001b[0m\u001b[34;49mnotice\u001b[0m\u001b[1;39;49m]\u001b[0m\u001b[39;49m A new release of pip is available: \u001b[0m\u001b[31;49m23.2.1\u001b[0m\u001b[39;49m -> \u001b[0m\u001b[32;49m24.0\u001b[0m\n",
      "\u001b[1m[\u001b[0m\u001b[34;49mnotice\u001b[0m\u001b[1;39;49m]\u001b[0m\u001b[39;49m To update, run: \u001b[0m\u001b[32;49mpip install --upgrade pip\u001b[0m\n",
      "\n",
      "\u001b[1m[\u001b[0m\u001b[34;49mnotice\u001b[0m\u001b[1;39;49m]\u001b[0m\u001b[39;49m A new release of pip is available: \u001b[0m\u001b[31;49m23.2.1\u001b[0m\u001b[39;49m -> \u001b[0m\u001b[32;49m24.0\u001b[0m\n",
      "\u001b[1m[\u001b[0m\u001b[34;49mnotice\u001b[0m\u001b[1;39;49m]\u001b[0m\u001b[39;49m To update, run: \u001b[0m\u001b[32;49mpip install --upgrade pip\u001b[0m\n",
      "\n",
      "\u001b[1m[\u001b[0m\u001b[34;49mnotice\u001b[0m\u001b[1;39;49m]\u001b[0m\u001b[39;49m A new release of pip is available: \u001b[0m\u001b[31;49m23.2.1\u001b[0m\u001b[39;49m -> \u001b[0m\u001b[32;49m24.0\u001b[0m\n",
      "\u001b[1m[\u001b[0m\u001b[34;49mnotice\u001b[0m\u001b[1;39;49m]\u001b[0m\u001b[39;49m To update, run: \u001b[0m\u001b[32;49mpip install --upgrade pip\u001b[0m\n"
     ]
    }
   ],
   "source": [
    "!pip install -q -U git+https://github.com/huggingface/transformers\n",
    "!pip install -q accelerate\n",
    "!pip install -q -i https://pypi.org/simple/ bitsandbytes\n",
    "!pip install -q -U datasets"
   ]
  },
  {
   "cell_type": "code",
   "execution_count": 3,
   "id": "a84f70f3",
   "metadata": {
    "ExecuteTime": {
     "end_time": "2024-03-02T06:26:07.671839Z",
     "start_time": "2024-03-02T06:25:49.029860Z"
    },
    "execution": {
     "iopub.execute_input": "2024-03-01T10:16:15.499429Z",
     "iopub.status.busy": "2024-03-01T10:16:15.498402Z",
     "iopub.status.idle": "2024-03-01T10:17:09.795111Z",
     "shell.execute_reply": "2024-03-01T10:17:09.793935Z"
    },
    "papermill": {
     "duration": 54.337667,
     "end_time": "2024-03-01T10:17:09.797606",
     "exception": false,
     "start_time": "2024-03-01T10:16:15.459939",
     "status": "completed"
    },
    "tags": []
   },
   "outputs": [
    {
     "name": "stdout",
     "output_type": "stream",
     "text": [
      "\n",
      "\u001b[1m[\u001b[0m\u001b[34;49mnotice\u001b[0m\u001b[1;39;49m]\u001b[0m\u001b[39;49m A new release of pip is available: \u001b[0m\u001b[31;49m23.2.1\u001b[0m\u001b[39;49m -> \u001b[0m\u001b[32;49m24.0\u001b[0m\n",
      "\u001b[1m[\u001b[0m\u001b[34;49mnotice\u001b[0m\u001b[1;39;49m]\u001b[0m\u001b[39;49m To update, run: \u001b[0m\u001b[32;49mpip install --upgrade pip\u001b[0m\n",
      "\n",
      "\u001b[1m[\u001b[0m\u001b[34;49mnotice\u001b[0m\u001b[1;39;49m]\u001b[0m\u001b[39;49m A new release of pip is available: \u001b[0m\u001b[31;49m23.2.1\u001b[0m\u001b[39;49m -> \u001b[0m\u001b[32;49m24.0\u001b[0m\n",
      "\u001b[1m[\u001b[0m\u001b[34;49mnotice\u001b[0m\u001b[1;39;49m]\u001b[0m\u001b[39;49m To update, run: \u001b[0m\u001b[32;49mpip install --upgrade pip\u001b[0m\n"
     ]
    }
   ],
   "source": [
    "!pip install -q -U git+https://github.com/huggingface/trl\n",
    "!pip install -q -U git+https://github.com/huggingface/peft"
   ]
  },
  {
   "cell_type": "markdown",
   "id": "27aa884a",
   "metadata": {
    "papermill": {
     "duration": 0.037847,
     "end_time": "2024-03-01T10:17:09.874002",
     "exception": false,
     "start_time": "2024-03-01T10:17:09.836155",
     "status": "completed"
    },
    "tags": []
   },
   "source": [
    "The code imports the os module and sets two environment variables:\n",
    "* CUDA_VISIBLE_DEVICES: This environment variable tells PyTorch which GPUs to use. In this case, the code is setting the environment variable to 0, which means that PyTorch will use the first GPU.\n",
    "* TOKENIZERS_PARALLELISM: This environment variable tells the Hugging Face Transformers library whether to parallelize the tokenization process. In this case, the code is setting the environment variable to false, which means that the tokenization process will not be parallelized."
   ]
  },
  {
   "cell_type": "code",
   "execution_count": 4,
   "id": "4b6c0e8d",
   "metadata": {
    "ExecuteTime": {
     "end_time": "2024-03-02T06:26:07.678475Z",
     "start_time": "2024-03-02T06:26:07.674496Z"
    },
    "execution": {
     "iopub.execute_input": "2024-03-01T10:17:09.952491Z",
     "iopub.status.busy": "2024-03-01T10:17:09.952155Z",
     "iopub.status.idle": "2024-03-01T10:17:09.956888Z",
     "shell.execute_reply": "2024-03-01T10:17:09.956082Z"
    },
    "papermill": {
     "duration": 0.046346,
     "end_time": "2024-03-01T10:17:09.958883",
     "exception": false,
     "start_time": "2024-03-01T10:17:09.912537",
     "status": "completed"
    },
    "tags": []
   },
   "outputs": [],
   "source": [
    "import os\n",
    "\n",
    "os.environ[\"CUDA_VISIBLE_DEVICES\"] = \"0\"\n",
    "os.environ[\"TOKENIZERS_PARALLELISM\"] = \"false\""
   ]
  },
  {
   "cell_type": "markdown",
   "id": "798c73ca",
   "metadata": {
    "papermill": {
     "duration": 0.037124,
     "end_time": "2024-03-01T10:17:10.033200",
     "exception": false,
     "start_time": "2024-03-01T10:17:09.996076",
     "status": "completed"
    },
    "tags": []
   },
   "source": [
    "The code import warnings; warnings.filterwarnings(\"ignore\") imports the warnings module and sets the warning filter to ignore. This means that all warnings will be suppressed and will not be displayed. Actually during training there are many warnings that do not prevent the fine-tuning but can be distracting and make you wonder if you are doing the correct things."
   ]
  },
  {
   "cell_type": "code",
   "execution_count": 5,
   "id": "a4afcd11",
   "metadata": {
    "ExecuteTime": {
     "end_time": "2024-03-02T06:26:07.683529Z",
     "start_time": "2024-03-02T06:26:07.680165Z"
    },
    "execution": {
     "iopub.execute_input": "2024-03-01T10:17:10.108728Z",
     "iopub.status.busy": "2024-03-01T10:17:10.108063Z",
     "iopub.status.idle": "2024-03-01T10:17:10.112065Z",
     "shell.execute_reply": "2024-03-01T10:17:10.111254Z"
    },
    "papermill": {
     "duration": 0.043592,
     "end_time": "2024-03-01T10:17:10.113869",
     "exception": false,
     "start_time": "2024-03-01T10:17:10.070277",
     "status": "completed"
    },
    "tags": []
   },
   "outputs": [],
   "source": [
    "import warnings\n",
    "\n",
    "warnings.filterwarnings(\"ignore\")"
   ]
  },
  {
   "cell_type": "markdown",
   "id": "32324949",
   "metadata": {
    "papermill": {
     "duration": 0.079055,
     "end_time": "2024-03-01T10:17:10.229996",
     "exception": false,
     "start_time": "2024-03-01T10:17:10.150941",
     "status": "completed"
    },
    "tags": []
   },
   "source": [
    "In the following cell there are all the other imports for running the notebook"
   ]
  },
  {
   "cell_type": "code",
   "execution_count": 6,
   "id": "bc914de5",
   "metadata": {
    "ExecuteTime": {
     "end_time": "2024-03-02T06:26:11.108200Z",
     "start_time": "2024-03-02T06:26:07.685268Z"
    },
    "execution": {
     "iopub.execute_input": "2024-03-01T10:17:10.306832Z",
     "iopub.status.busy": "2024-03-01T10:17:10.306124Z",
     "iopub.status.idle": "2024-03-01T10:17:31.014881Z",
     "shell.execute_reply": "2024-03-01T10:17:31.014120Z"
    },
    "papermill": {
     "duration": 20.749445,
     "end_time": "2024-03-01T10:17:31.017091",
     "exception": false,
     "start_time": "2024-03-01T10:17:10.267646",
     "status": "completed"
    },
    "tags": []
   },
   "outputs": [],
   "source": [
    "import numpy as np\n",
    "import pandas as pd\n",
    "import os\n",
    "from tqdm import tqdm\n",
    "\n",
    "import torch\n",
    "import torch.nn as nn\n",
    "\n",
    "import transformers\n",
    "from transformers import (AutoModelForCausalLM,\n",
    "                          AutoTokenizer,\n",
    "                          BitsAndBytesConfig,\n",
    "                          TrainingArguments,\n",
    "                          pipeline,\n",
    "                          logging)\n",
    "from datasets import Dataset\n",
    "from peft import LoraConfig, PeftConfig\n",
    "import bitsandbytes as bnb\n",
    "from trl import SFTTrainer\n",
    "\n",
    "from sklearn.metrics import (accuracy_score,\n",
    "                             classification_report,\n",
    "                             confusion_matrix)\n",
    "from sklearn.model_selection import train_test_split"
   ]
  },
  {
   "cell_type": "markdown",
   "id": "0a16f5b0",
   "metadata": {
    "papermill": {
     "duration": 0.037304,
     "end_time": "2024-03-01T10:17:31.092354",
     "exception": false,
     "start_time": "2024-03-01T10:17:31.055050",
     "status": "completed"
    },
    "tags": []
   },
   "source": [
    "The code in the next cell performs the following steps:\n",
    "\n",
    "1. Reads the input dataset from the all-data.csv file, which is a comma-separated value (CSV) file with two columns: sentiment and text.\n",
    "2. Splits the dataset into training and test sets, with 300 samples in each set. The split is stratified by sentiment, so that each set contains a representative sample of positive, neutral, and negative sentiments.\n",
    "3. Shuffles the train data in a replicable order (random_state=10)\n",
    "4. Transforms the texts contained in the train and test data into prompts to be used by Gemma: the train prompts contains the expected answer we want to fine-tune the model with\n",
    "5. The residual examples not in train or test, for reporting purposes during training (but it won't be used for early stopping), is treated as evaluation data, which is sampled with repetition in order to have a 50/50/50 sample (negative instances are very few, hence they should be repeated)\n",
    "5. The train and eval data are wrapped by the class from Hugging Face (https://huggingface.co/docs/datasets/index)\n",
    "\n",
    "This prepares in a single cell train_data, eval_data and test_data datasets to be used in our fine tuning."
   ]
  },
  {
   "cell_type": "code",
   "execution_count": 7,
   "id": "f8742ed2",
   "metadata": {
    "ExecuteTime": {
     "end_time": "2024-03-02T06:26:11.467724Z",
     "start_time": "2024-03-02T06:26:11.109230Z"
    },
    "execution": {
     "iopub.execute_input": "2024-03-01T10:17:31.170553Z",
     "iopub.status.busy": "2024-03-01T10:17:31.170230Z",
     "iopub.status.idle": "2024-03-01T10:17:31.707756Z",
     "shell.execute_reply": "2024-03-01T10:17:31.706770Z"
    },
    "papermill": {
     "duration": 0.578596,
     "end_time": "2024-03-01T10:17:31.710167",
     "exception": false,
     "start_time": "2024-03-01T10:17:31.131571",
     "status": "completed"
    },
    "tags": []
   },
   "outputs": [],
   "source": [
    "filename = \"./data/llm_train_2.csv\"\n",
    "\n",
    "df = pd.read_csv(filename,\n",
    "                 names=[\"text\", \"label\"],\n",
    "                 encoding=\"utf-8\", encoding_errors=\"replace\")\n",
    "df['label'] = df['label'].replace({'0': 'stayed', '1': 'exited'})\n",
    "\n",
    "X_train = list()\n",
    "X_test = list()\n",
    "for label in [\"stayed\", \"exited\"]:\n",
    "    train, test = train_test_split(df[df.label == label],\n",
    "                                   train_size=500,\n",
    "                                   test_size=300,\n",
    "                                   random_state=42)\n",
    "    X_train.append(train)\n",
    "    X_test.append(test)\n",
    "\n",
    "X_train = pd.concat(X_train).sample(frac=1, random_state=10)\n",
    "X_test = pd.concat(X_test)\n",
    "\n",
    "train_test_idx = set(list(X_train.index) + list(X_test.index))\n",
    "\n",
    "eval_idx = [idx for idx in df.index if idx not in train_test_idx]\n",
    "X_eval = df[df.index.isin(eval_idx)]\n",
    "X_eval = (X_eval\n",
    "          .groupby('label', group_keys=False)\n",
    "          .apply(lambda x: x.sample(n=50, random_state=10, replace=True)))\n",
    "X_train = X_train.reset_index(drop=True)\n",
    "\n",
    "\n",
    "def generate_prompt(data_point):\n",
    "    return f\"\"\"\n",
    "            Analyze the likelihood of the customer to churn, information is enclosed in square brackets, \n",
    "            determine if it is stayed or exited, and return the answer as \n",
    "            the corresponding decision label \"stayed\" or \"exited\"\n",
    "\n",
    "            [{data_point[\"text\"]}] = {data_point[\"label\"]}\n",
    "            \"\"\".strip()\n",
    "\n",
    "\n",
    "def generate_test_prompt(data_point):\n",
    "    return f\"\"\"\n",
    "            Analyze the likelihood of the customer to churn, information is enclosed in square brackets, \n",
    "            determine if it is stayed or exited, and return the answer as \n",
    "            the corresponding decision label \"stayed\" or \"exited\"\n",
    "\n",
    "            [{data_point[\"text\"]}] = \n",
    "\n",
    "            \"\"\".strip()\n",
    "\n",
    "\n",
    "X_train = pd.DataFrame(X_train.apply(generate_prompt, axis=1),\n",
    "                       columns=[\"text\"])\n",
    "X_eval = pd.DataFrame(X_eval.apply(generate_prompt, axis=1),\n",
    "                      columns=[\"text\"])\n",
    "\n",
    "y_true = X_test.label\n",
    "X_test = pd.DataFrame(X_test.apply(generate_test_prompt, axis=1), columns=[\"text\"])\n",
    "\n",
    "train_data = Dataset.from_pandas(X_train)\n",
    "eval_data = Dataset.from_pandas(X_eval)"
   ]
  },
  {
   "cell_type": "markdown",
   "id": "cc5c1d7d",
   "metadata": {
    "papermill": {
     "duration": 0.037158,
     "end_time": "2024-03-01T10:17:31.785359",
     "exception": false,
     "start_time": "2024-03-01T10:17:31.748201",
     "status": "completed"
    },
    "tags": []
   },
   "source": [
    "Next we create a function to evaluate the results from our fine-tuned sentiment model. The function performs the following steps:\n",
    "\n",
    "1. Maps the sentiment labels to a numerical representation, where 2 represents positive, 1 represents neutral, and 0 represents negative.\n",
    "2. Calculates the accuracy of the model on the test data.\n",
    "3. Generates an accuracy report for each sentiment label.\n",
    "4. Generates a classification report for the model.\n",
    "5. Generates a confusion matrix for the model."
   ]
  },
  {
   "cell_type": "code",
   "execution_count": 20,
   "id": "9e6cc572",
   "metadata": {
    "ExecuteTime": {
     "end_time": "2024-03-02T07:30:02.952484Z",
     "start_time": "2024-03-02T07:30:02.947301Z"
    },
    "execution": {
     "iopub.execute_input": "2024-03-01T10:17:31.862479Z",
     "iopub.status.busy": "2024-03-01T10:17:31.861785Z",
     "iopub.status.idle": "2024-03-01T10:17:31.870880Z",
     "shell.execute_reply": "2024-03-01T10:17:31.869975Z"
    },
    "papermill": {
     "duration": 0.049971,
     "end_time": "2024-03-01T10:17:31.872828",
     "exception": false,
     "start_time": "2024-03-01T10:17:31.822857",
     "status": "completed"
    },
    "tags": []
   },
   "outputs": [],
   "source": [
    "\n",
    "\n",
    "from sklearn.metrics import roc_auc_score\n",
    "\n",
    "\n",
    "def evaluate(y_true, y_pred):\n",
    "    labels = ['stayed', 'exited']\n",
    "    mapping = {'stayed': 1, 'none': 0, 'exited': -1}\n",
    "\n",
    "    def map_func(x):\n",
    "        return mapping.get(x, 1)\n",
    "\n",
    "    y_true = np.vectorize(map_func)(y_true)\n",
    "    y_pred = np.vectorize(map_func)(y_pred)\n",
    "\n",
    "    # Calculate accuracy\n",
    "    accuracy = accuracy_score(y_true=y_true, y_pred=y_pred)\n",
    "    print(f'Accuracy: {accuracy:.3f}')\n",
    "\n",
    "    # Generate accuracy report\n",
    "    unique_labels = set(y_true)  # Get unique labels\n",
    "\n",
    "    for label in unique_labels:\n",
    "        label_indices = [i for i in range(len(y_true))\n",
    "                         if y_true[i] == label]\n",
    "        label_y_true = [y_true[i] for i in label_indices]\n",
    "        label_y_pred = [y_pred[i] for i in label_indices]\n",
    "        accuracy = accuracy_score(label_y_true, label_y_pred)\n",
    "        print(f'Accuracy for label {label}: {accuracy:.3f}')\n",
    "        # Print the ROC AUC score\n",
    "        # print(f'ROC AUC for label {label}: {roc_auc_score(label_y_true, label_y_pred):.3f}')\n",
    "\n",
    "    # Generate classification report\n",
    "    class_report = classification_report(y_true=y_true, y_pred=y_pred)\n",
    "    print('\\nClassification Report:')\n",
    "    print(class_report)\n",
    "    \n",
    "    # Print the ROC AUC score\n",
    "    print(f'ROC AUC for all labels: {roc_auc_score(y_true, y_pred):.3f}')\n",
    "\n",
    "    # Generate confusion matrix\n",
    "    conf_matrix = confusion_matrix(y_true=y_true, y_pred=y_pred, labels=[1, 0, -1])\n",
    "    print('\\nConfusion Matrix:')\n",
    "    print(conf_matrix)"
   ]
  },
  {
   "cell_type": "markdown",
   "id": "f0b4a910",
   "metadata": {
    "papermill": {
     "duration": 0.037412,
     "end_time": "2024-03-01T10:17:31.948520",
     "exception": false,
     "start_time": "2024-03-01T10:17:31.911108",
     "status": "completed"
    },
    "tags": []
   },
   "source": [
    "Next we need to take care of the model, which is a 7b-v0.1-hf (7 billion parameters, version 0.1, in the HuggingFace compatible format), loading from Kaggle models and quantization.\n",
    "\n",
    "Model loading and quantization:\n",
    "\n",
    "* First the code loads the Gemma 7B it language model from the Hugging Face Hub.\n",
    "* Then the code gets the float16 data type from the torch library. This is the data type that will be used for the computations.\n",
    "* Next, it creates a BitsAndBytesConfig object with the following settings:\n",
    "    1. load_in_4bit: Load the model weights in 4-bit format.\n",
    "    2. bnb_4bit_quant_type: Use the \"nf4\" quantization type. 4-bit NormalFloat (NF4), is a new data type that is information theoretically optimal for normally distributed weights.\n",
    "    3. bnb_4bit_compute_dtype: Use the float16 data type for computations.\n",
    "    4. bnb_4bit_use_double_quant: Do not use double quantization (reduces the average memory footprint by quantizing also the quantization constants and saves an additional 0.4 bits per parameter.).\n",
    "* Then the code creates a AutoModelForCausalLM object from the pre-trained Gemma 7B it language model, using the BitsAndBytesConfig object for quantization.\n",
    "* After that, the code disables caching for the model.\n",
    "* Finally the code sets the pre-training token probability to 1.\n",
    "\n",
    "Tokenizer loading:\n",
    "\n",
    "* First, the code loads the tokenizer for the Gemma 7B it language model.\n",
    "* Then it sets the padding token to be the end-of-sequence (EOS) token.\n",
    "* Finally, the code sets the padding side to be \"left\", which means that the input sequences will be padded on the left side."
   ]
  },
  {
   "cell_type": "code",
   "execution_count": 9,
   "id": "3fcc4a248016475f",
   "metadata": {
    "ExecuteTime": {
     "end_time": "2024-03-02T06:26:15.178760Z",
     "start_time": "2024-03-02T06:26:11.475330Z"
    },
    "collapsed": false,
    "jupyter": {
     "outputs_hidden": false
    }
   },
   "outputs": [],
   "source": [
    "# Ask for huggingface token and save it to the environment\n",
    "\n",
    "# ask for token\n",
    "import getpass\n",
    "hf_token = getpass.getpass(\"Please enter your huggingface token: \")\n",
    "\n",
    "# save token to environment\n",
    "os.environ[\"HF_TOKEN\"] = hf_token\n"
   ]
  },
  {
   "cell_type": "code",
   "execution_count": 10,
   "id": "88a5038e",
   "metadata": {
    "ExecuteTime": {
     "end_time": "2024-03-02T06:26:23.264316Z",
     "start_time": "2024-03-02T06:26:15.181974Z"
    },
    "execution": {
     "iopub.execute_input": "2024-03-01T10:17:32.026472Z",
     "iopub.status.busy": "2024-03-01T10:17:32.026130Z",
     "iopub.status.idle": "2024-03-01T10:19:39.119508Z",
     "shell.execute_reply": "2024-03-01T10:19:39.118672Z"
    },
    "papermill": {
     "duration": 127.134717,
     "end_time": "2024-03-01T10:19:39.121825",
     "exception": false,
     "start_time": "2024-03-01T10:17:31.987108",
     "status": "completed"
    },
    "tags": []
   },
   "outputs": [
    {
     "data": {
      "application/vnd.jupyter.widget-view+json": {
       "model_id": "24d5c88482be43339ecac88ca7115987",
       "version_major": 2,
       "version_minor": 0
      },
      "text/plain": [
       "Loading checkpoint shards:   0%|          | 0/4 [00:00<?, ?it/s]"
      ]
     },
     "metadata": {},
     "output_type": "display_data"
    }
   ],
   "source": [
    "model_name = \"google/gemma-7b-it\"\n",
    "\n",
    "compute_dtype = getattr(torch, \"float16\")\n",
    "\n",
    "bnb_config = BitsAndBytesConfig(\n",
    "    load_in_4bit=True,\n",
    "    bnb_4bit_use_double_quant=False,\n",
    "    bnb_4bit_quant_type=\"nf4\",\n",
    "    bnb_4bit_compute_dtype=compute_dtype,\n",
    ")\n",
    "\n",
    "model = AutoModelForCausalLM.from_pretrained(\n",
    "    model_name,\n",
    "    device_map=\"auto\",\n",
    "    quantization_config=bnb_config,\n",
    ")\n",
    "\n",
    "model.config.use_cache = False\n",
    "model.config.pretraining_tp = 1\n",
    "\n",
    "tokenizer = AutoTokenizer.from_pretrained(model_name)"
   ]
  },
  {
   "cell_type": "markdown",
   "id": "3519dedd",
   "metadata": {
    "papermill": {
     "duration": 0.039618,
     "end_time": "2024-03-01T10:19:39.202002",
     "exception": false,
     "start_time": "2024-03-01T10:19:39.162384",
     "status": "completed"
    },
    "tags": []
   },
   "source": [
    "In the next cell, we set a function for predicting the sentiment of a news headline using the Gemma 7B it language model. The function takes three arguments:\n",
    "\n",
    "test: A Pandas DataFrame containing the news headlines to be predicted.\n",
    "model: The pre-trained Gemma 7B it language model.\n",
    "tokenizer: The tokenizer for the Gemma 7B it language model.\n",
    "\n",
    "The function works as follows:\n",
    "\n",
    "1. For each news headline in the test DataFrame:\n",
    "    * Create a prompt for the language model, which asks it to analyze the sentiment of the news headline and return the corresponding sentiment label.\n",
    "    * Use the pipeline() function from the Hugging Face Transformers library to generate text from the language model, using the prompt.\n",
    "    * Extract the predicted sentiment label from the generated text.\n",
    "    * Append the predicted sentiment label to the y_pred list.\n",
    "2. Return the y_pred list.\n",
    "\n",
    "The pipeline() function from the Hugging Face Transformers library is used to generate text from the language model. The task argument specifies that the task is text generation. The model and tokenizer arguments specify the pre-trained Gemma 7B it language model and the tokenizer for the language model. The max_new_tokens argument specifies the maximum number of new tokens to generate. The temperature argument controls the randomness of the generated text. A lower temperature will produce more predictable text, while a higher temperature will produce more creative and unexpected text.\n",
    "\n",
    "The if statement checks if the generated text contains the word \"positive\". If it does, then the predicted sentiment label is \"positive\". Otherwise, the if statement checks if the generated text contains the word \"negative\". If it does, then the predicted sentiment label is \"negative\". Otherwise, the if statement checks if the generated text contains the word \"neutral\". If it does, then the predicted sentiment label is \"neutral."
   ]
  },
  {
   "cell_type": "code",
   "execution_count": 11,
   "id": "776072a9",
   "metadata": {
    "ExecuteTime": {
     "end_time": "2024-03-02T06:26:23.268969Z",
     "start_time": "2024-03-02T06:26:23.265346Z"
    },
    "execution": {
     "iopub.execute_input": "2024-03-01T10:19:39.279566Z",
     "iopub.status.busy": "2024-03-01T10:19:39.279081Z",
     "iopub.status.idle": "2024-03-01T10:19:39.287041Z",
     "shell.execute_reply": "2024-03-01T10:19:39.286167Z"
    },
    "papermill": {
     "duration": 0.049113,
     "end_time": "2024-03-01T10:19:39.289061",
     "exception": false,
     "start_time": "2024-03-01T10:19:39.239948",
     "status": "completed"
    },
    "tags": []
   },
   "outputs": [],
   "source": [
    "def predict(X_test, model, tokenizer):\n",
    "    y_pred = []\n",
    "    for i in tqdm(range(len(X_test))):\n",
    "        prompt = X_test.iloc[i][\"text\"]\n",
    "        input_ids = tokenizer(prompt, return_tensors=\"pt\").to(\"cuda\")\n",
    "        outputs = model.generate(**input_ids, max_new_tokens=1, temperature=0.0)\n",
    "        result = tokenizer.decode(outputs[0])\n",
    "        answer = result.split(\"=\")[-1].lower()\n",
    "        if \"exited\" in answer:\n",
    "            y_pred.append('exited')\n",
    "        elif 'stayed' in answer:\n",
    "            y_pred.append('stayed')\n",
    "        else:\n",
    "            y_pred.append(\"none\")\n",
    "    return y_pred"
   ]
  },
  {
   "cell_type": "markdown",
   "id": "e75e2c78",
   "metadata": {
    "papermill": {
     "duration": 0.038012,
     "end_time": "2024-03-01T10:19:39.365121",
     "exception": false,
     "start_time": "2024-03-01T10:19:39.327109",
     "status": "completed"
    },
    "tags": []
   },
   "source": [
    "At this point, we are ready to test the Gemma 7B it model and see how it performs on our problem without any fine-tuning. This allows us to get insights on the model itself and establish a baseline."
   ]
  },
  {
   "cell_type": "code",
   "execution_count": 12,
   "id": "152c55ee",
   "metadata": {
    "ExecuteTime": {
     "end_time": "2024-03-02T06:26:23.271859Z",
     "start_time": "2024-03-02T06:26:23.269843Z"
    },
    "execution": {
     "iopub.execute_input": "2024-03-01T10:19:39.444385Z",
     "iopub.status.busy": "2024-03-01T10:19:39.443559Z",
     "iopub.status.idle": "2024-03-01T10:26:03.991473Z",
     "shell.execute_reply": "2024-03-01T10:26:03.990379Z"
    },
    "papermill": {
     "duration": 384.59069,
     "end_time": "2024-03-01T10:26:03.994159",
     "exception": false,
     "start_time": "2024-03-01T10:19:39.403469",
     "status": "completed"
    },
    "tags": []
   },
   "outputs": [],
   "source": [
    "# y_pred = predict(X_test, model, tokenizer)"
   ]
  },
  {
   "cell_type": "markdown",
   "id": "c1b6e83e",
   "metadata": {
    "papermill": {
     "duration": 0.106969,
     "end_time": "2024-03-01T10:26:04.210068",
     "exception": false,
     "start_time": "2024-03-01T10:26:04.103099",
     "status": "completed"
    },
    "tags": []
   },
   "source": [
    "In the following cell, we evaluate the results. There is little to be said, it is performing really terribly because the 7b-hf model tends to just predict a neutral sentiment and seldom it detects positive or negative sentiment."
   ]
  },
  {
   "cell_type": "code",
   "execution_count": 13,
   "id": "6eab0cb4",
   "metadata": {
    "ExecuteTime": {
     "end_time": "2024-03-02T06:26:23.274783Z",
     "start_time": "2024-03-02T06:26:23.272770Z"
    },
    "execution": {
     "iopub.execute_input": "2024-03-01T10:26:04.426931Z",
     "iopub.status.busy": "2024-03-01T10:26:04.426559Z",
     "iopub.status.idle": "2024-03-01T10:26:04.448192Z",
     "shell.execute_reply": "2024-03-01T10:26:04.447273Z"
    },
    "papermill": {
     "duration": 0.13243,
     "end_time": "2024-03-01T10:26:04.450095",
     "exception": false,
     "start_time": "2024-03-01T10:26:04.317665",
     "status": "completed"
    },
    "tags": []
   },
   "outputs": [],
   "source": [
    "# evaluate(y_true, y_pred)"
   ]
  },
  {
   "cell_type": "markdown",
   "id": "fb8ce23a",
   "metadata": {
    "papermill": {
     "duration": 0.109121,
     "end_time": "2024-03-01T10:26:04.666738",
     "exception": false,
     "start_time": "2024-03-01T10:26:04.557617",
     "status": "completed"
    },
    "tags": []
   },
   "source": [
    "In the next cell we set everything ready for the fine-tuning. We configures and initializes a Simple Fine-tuning Trainer (SFTTrainer) for training a large language model using the Parameter-Efficient Fine-Tuning (PEFT) method, which should save time as it operates on a reduced number of parameters compared to the model's overall size. The PEFT method focuses on refining a limited set of (additional) model parameters, while keeping the majority of the pre-trained LLM parameters fixed. This significantly reduces both computational and storage expenses. Additionally, this strategy addresses the challenge of catastrophic forgetting, which often occurs during the complete fine-tuning of LLMs.\n",
    "\n",
    "PEFTConfig:\n",
    "\n",
    "The peft_config object specifies the parameters for PEFT. The following are some of the most important parameters:\n",
    "\n",
    "* lora_alpha: The learning rate for the LoRA update matrices.\n",
    "* lora_dropout: The dropout probability for the LoRA update matrices.\n",
    "* r: The rank of the LoRA update matrices.\n",
    "* bias: The type of bias to use. The possible values are none, additive, and learned.\n",
    "* task_type: The type of task that the model is being trained for. The possible values are CAUSAL_LM and MASKED_LM.\n",
    "\n",
    "TrainingArguments:\n",
    "\n",
    "The training_arguments object specifies the parameters for training the model. The following are some of the most important parameters:\n",
    "\n",
    "* output_dir: The directory where the training logs and checkpoints will be saved.\n",
    "* num_train_epochs: The number of epochs to train the model for.\n",
    "* per_device_train_batch_size: The number of samples in each batch on each device.\n",
    "* gradient_accumulation_steps: The number of batches to accumulate gradients before updating the model parameters.\n",
    "* gradient_checkpointing: use less GPU memory at the cost of small decrease in the training speed due to graph recomputing\n",
    "* optim: The optimizer to use for training the model.\n",
    "* save_steps: The number of steps after which to save a checkpoint.\n",
    "* logging_steps: The number of steps after which to log the training metrics.\n",
    "* learning_rate: The learning rate for the optimizer.\n",
    "* weight_decay: The weight decay parameter for the optimizer.\n",
    "* fp16: Whether to use 16-bit floating-point precision.\n",
    "* bf16: Whether to use BFloat16 precision.\n",
    "* max_grad_norm: The maximum gradient norm.\n",
    "* max_steps: The maximum number of steps to train the model for.\n",
    "* warmup_ratio: The proportion of the training steps to use for warming up the learning rate.\n",
    "* group_by_length: Whether to group the training samples by length.\n",
    "* lr_scheduler_type: The type of learning rate scheduler to use.\n",
    "* report_to: The tools to report the training metrics to.\n",
    "* evaluation_strategy: The strategy for evaluating the model during training.\n",
    "* eval_steps: Number of update steps between two evaluations\n",
    "* eval_accumulation_steps: Number of predictions steps to accumulate the output tensors for, before moving to the CPU\n",
    "\n",
    "SFTTrainer:\n",
    "\n",
    "The SFTTrainer is a custom trainer class from the TRL library. It is used to train large language models using the PEFT method.\n",
    "\n",
    "The SFTTrainer object is initialized with the following arguments:\n",
    "\n",
    "* model: The model to be trained.\n",
    "* train_dataset: The training dataset.\n",
    "* eval_dataset: The evaluation dataset.\n",
    "* peft_config: The PEFT configuration.\n",
    "* dataset_text_field: The name of the text field in the dataset.\n",
    "* tokenizer: The tokenizer to use.\n",
    "* args: The training arguments.\n",
    "* packing: Whether to pack the training samples.\n",
    "* max_seq_length: The maximum sequence length.\n",
    "\n",
    "Once the SFTTrainer object is initialized, it can be used to train the model by calling the train() method"
   ]
  },
  {
   "cell_type": "code",
   "execution_count": 14,
   "id": "4e409826",
   "metadata": {
    "ExecuteTime": {
     "end_time": "2024-03-02T06:26:25.336800Z",
     "start_time": "2024-03-02T06:26:23.275656Z"
    },
    "execution": {
     "iopub.execute_input": "2024-03-01T10:26:04.884120Z",
     "iopub.status.busy": "2024-03-01T10:26:04.883772Z",
     "iopub.status.idle": "2024-03-01T10:26:08.795219Z",
     "shell.execute_reply": "2024-03-01T10:26:08.794412Z"
    },
    "papermill": {
     "duration": 4.022976,
     "end_time": "2024-03-01T10:26:08.797317",
     "exception": false,
     "start_time": "2024-03-01T10:26:04.774341",
     "status": "completed"
    },
    "tags": []
   },
   "outputs": [
    {
     "data": {
      "application/vnd.jupyter.widget-view+json": {
       "model_id": "cbb0ed19093c495fbc5db86114526928",
       "version_major": 2,
       "version_minor": 0
      },
      "text/plain": [
       "Map:   0%|          | 0/1000 [00:00<?, ? examples/s]"
      ]
     },
     "metadata": {},
     "output_type": "display_data"
    },
    {
     "data": {
      "application/vnd.jupyter.widget-view+json": {
       "model_id": "c279fd3a0d2043e2b79a13fd2ef456b5",
       "version_major": 2,
       "version_minor": 0
      },
      "text/plain": [
       "Map:   0%|          | 0/150 [00:00<?, ? examples/s]"
      ]
     },
     "metadata": {},
     "output_type": "display_data"
    }
   ],
   "source": [
    "peft_config = LoraConfig(\n",
    "    lora_alpha=16,\n",
    "    lora_dropout=0.1,\n",
    "    r=64,\n",
    "    bias=\"none\",\n",
    "    task_type=\"CAUSAL_LM\",\n",
    "    target_modules=\"all-linear\",\n",
    ")\n",
    "\n",
    "training_arguments = TrainingArguments(\n",
    "    output_dir=\"logs\",\n",
    "    num_train_epochs=5,\n",
    "    gradient_checkpointing=True,\n",
    "    per_device_train_batch_size=1,\n",
    "    gradient_accumulation_steps=8,\n",
    "    optim=\"paged_adamw_32bit\",\n",
    "    save_steps=0,\n",
    "    logging_steps=25,\n",
    "    learning_rate=2e-4,\n",
    "    weight_decay=0.001,\n",
    "    fp16=True,\n",
    "    bf16=False,\n",
    "    max_grad_norm=0.3,\n",
    "    max_steps=-1,\n",
    "    warmup_ratio=0.03,\n",
    "    group_by_length=False,\n",
    "    evaluation_strategy='steps',\n",
    "    eval_steps=112,\n",
    "    eval_accumulation_steps=1,\n",
    "    lr_scheduler_type=\"cosine\",\n",
    "    report_to=\"tensorboard\",\n",
    ")\n",
    "\n",
    "trainer = SFTTrainer(\n",
    "    model=model,\n",
    "    train_dataset=train_data,\n",
    "    eval_dataset=eval_data,\n",
    "    peft_config=peft_config,\n",
    "    dataset_text_field=\"text\",\n",
    "    tokenizer=tokenizer,\n",
    "    args=training_arguments,\n",
    "    packing=False,\n",
    "    max_seq_length=1024,\n",
    ")"
   ]
  },
  {
   "cell_type": "markdown",
   "id": "d45fc8c4",
   "metadata": {
    "papermill": {
     "duration": 0.107577,
     "end_time": "2024-03-01T10:26:09.014999",
     "exception": false,
     "start_time": "2024-03-01T10:26:08.907422",
     "status": "completed"
    },
    "tags": []
   },
   "source": [
    "The following code will train the model using the trainer.train() method and then save the trained model to the trained-model directory. Using The standard GPU P100 offered by Kaggle, the training should be quite fast."
   ]
  },
  {
   "cell_type": "code",
   "execution_count": 15,
   "id": "298ca109",
   "metadata": {
    "ExecuteTime": {
     "end_time": "2024-03-02T07:24:25.180108Z",
     "start_time": "2024-03-02T06:26:25.337807Z"
    },
    "execution": {
     "iopub.execute_input": "2024-03-01T10:26:09.232270Z",
     "iopub.status.busy": "2024-03-01T10:26:09.231385Z",
     "iopub.status.idle": "2024-03-01T12:29:07.994690Z",
     "shell.execute_reply": "2024-03-01T12:29:07.993611Z"
    },
    "papermill": {
     "duration": 7378.87416,
     "end_time": "2024-03-01T12:29:07.997023",
     "exception": false,
     "start_time": "2024-03-01T10:26:09.122863",
     "status": "completed"
    },
    "tags": []
   },
   "outputs": [
    {
     "data": {
      "text/html": [
       "\n",
       "    <div>\n",
       "      \n",
       "      <progress value='625' max='625' style='width:300px; height:20px; vertical-align: middle;'></progress>\n",
       "      [625/625 57:52, Epoch 5/5]\n",
       "    </div>\n",
       "    <table border=\"1\" class=\"dataframe\">\n",
       "  <thead>\n",
       " <tr style=\"text-align: left;\">\n",
       "      <th>Step</th>\n",
       "      <th>Training Loss</th>\n",
       "      <th>Validation Loss</th>\n",
       "    </tr>\n",
       "  </thead>\n",
       "  <tbody>\n",
       "    <tr>\n",
       "      <td>112</td>\n",
       "      <td>0.400300</td>\n",
       "      <td>0.897412</td>\n",
       "    </tr>\n",
       "    <tr>\n",
       "      <td>224</td>\n",
       "      <td>0.375200</td>\n",
       "      <td>0.946892</td>\n",
       "    </tr>\n",
       "    <tr>\n",
       "      <td>336</td>\n",
       "      <td>0.362800</td>\n",
       "      <td>0.922721</td>\n",
       "    </tr>\n",
       "    <tr>\n",
       "      <td>448</td>\n",
       "      <td>0.349300</td>\n",
       "      <td>0.947909</td>\n",
       "    </tr>\n",
       "    <tr>\n",
       "      <td>560</td>\n",
       "      <td>0.337700</td>\n",
       "      <td>0.952195</td>\n",
       "    </tr>\n",
       "  </tbody>\n",
       "</table><p>"
      ],
      "text/plain": [
       "<IPython.core.display.HTML object>"
      ]
     },
     "metadata": {},
     "output_type": "display_data"
    }
   ],
   "source": [
    "# Train model\n",
    "trainer.train()\n",
    "\n",
    "# Save trained model\n",
    "trainer.model.save_pretrained(\"trained-model\")"
   ]
  },
  {
   "cell_type": "markdown",
   "id": "16ecd9f9",
   "metadata": {
    "papermill": {
     "duration": 0.107915,
     "end_time": "2024-03-01T12:29:08.213666",
     "exception": false,
     "start_time": "2024-03-01T12:29:08.105751",
     "status": "completed"
    },
    "tags": []
   },
   "source": [
    "Afterwards, loading the TensorBoard extension and start TensorBoard, pointing to the logs/runs directory, which is assumed to contain the training logs and checkpoints for your model, will allow you to understand how the models fits during the training."
   ]
  },
  {
   "cell_type": "code",
   "execution_count": 16,
   "id": "2a0ab57e",
   "metadata": {
    "ExecuteTime": {
     "end_time": "2024-03-02T07:24:26.192419Z",
     "start_time": "2024-03-02T07:24:25.181204Z"
    },
    "execution": {
     "iopub.execute_input": "2024-03-01T12:29:08.437632Z",
     "iopub.status.busy": "2024-03-01T12:29:08.436931Z",
     "iopub.status.idle": "2024-03-01T12:29:14.972513Z",
     "shell.execute_reply": "2024-03-01T12:29:14.971327Z"
    },
    "papermill": {
     "duration": 6.651914,
     "end_time": "2024-03-01T12:29:14.974675",
     "exception": false,
     "start_time": "2024-03-01T12:29:08.322761",
     "status": "completed"
    },
    "tags": []
   },
   "outputs": [
    {
     "data": {
      "text/html": [
       "\n",
       "      <iframe id=\"tensorboard-frame-1c80317fa3b1799d\" width=\"100%\" height=\"800\" frameborder=\"0\">\n",
       "      </iframe>\n",
       "      <script>\n",
       "        (function() {\n",
       "          const frame = document.getElementById(\"tensorboard-frame-1c80317fa3b1799d\");\n",
       "          const url = new URL(\"/\", window.location);\n",
       "          const port = 6006;\n",
       "          if (port) {\n",
       "            url.port = port;\n",
       "          }\n",
       "          frame.src = url;\n",
       "        })();\n",
       "      </script>\n",
       "    "
      ],
      "text/plain": [
       "<IPython.core.display.HTML object>"
      ]
     },
     "metadata": {},
     "output_type": "display_data"
    }
   ],
   "source": [
    "%load_ext tensorboard\n",
    "%tensorboard --logdir logs/runs"
   ]
  },
  {
   "cell_type": "markdown",
   "id": "c495512f",
   "metadata": {
    "papermill": {
     "duration": 0.116314,
     "end_time": "2024-03-01T12:29:15.207375",
     "exception": false,
     "start_time": "2024-03-01T12:29:15.091061",
     "status": "completed"
    },
    "tags": []
   },
   "source": [
    "The following code will first predict the sentiment labels for the test set using the predict() function. Then, it will evaluate the model's performance on the test set using the evaluate() function. The result now should be impressive with an overall accuracy of over 0.8 and high accuracy, precision and recall for the single sentiment labels. The prediction of the neutral label can still be improved, yet it is impressive how much could be done with little data and some fine-tuning."
   ]
  },
  {
   "cell_type": "code",
   "execution_count": 17,
   "id": "fc9af867",
   "metadata": {
    "ExecuteTime": {
     "end_time": "2024-03-02T07:27:38.411881Z",
     "start_time": "2024-03-02T07:24:26.193720Z"
    },
    "execution": {
     "iopub.execute_input": "2024-03-01T12:29:15.430282Z",
     "iopub.status.busy": "2024-03-01T12:29:15.429408Z",
     "iopub.status.idle": "2024-03-01T12:36:14.897988Z",
     "shell.execute_reply": "2024-03-01T12:36:14.896257Z"
    },
    "papermill": {
     "duration": 419.583182,
     "end_time": "2024-03-01T12:36:14.900356",
     "exception": false,
     "start_time": "2024-03-01T12:29:15.317174",
     "status": "completed"
    },
    "tags": []
   },
   "outputs": [
    {
     "name": "stderr",
     "output_type": "stream",
     "text": [
      "  0%|          | 0/600 [00:00<?, ?it/s]`use_cache=True` is incompatible with gradient checkpointing. Setting `use_cache=False`.\n",
      "100%|██████████| 600/600 [03:12<00:00,  3.12it/s]"
     ]
    },
    {
     "name": "stdout",
     "output_type": "stream",
     "text": [
      "Accuracy: 0.788\n",
      "Accuracy for label 1: 0.807\n",
      "Accuracy for label -1: 0.770\n",
      "\n",
      "Classification Report:\n",
      "              precision    recall  f1-score   support\n",
      "\n",
      "          -1       0.80      0.77      0.78       300\n",
      "           1       0.78      0.81      0.79       300\n",
      "\n",
      "    accuracy                           0.79       600\n",
      "   macro avg       0.79      0.79      0.79       600\n",
      "weighted avg       0.79      0.79      0.79       600\n",
      "\n",
      "\n",
      "Confusion Matrix:\n",
      "[[242   0  58]\n",
      " [  0   0   0]\n",
      " [ 69   0 231]]\n"
     ]
    },
    {
     "name": "stderr",
     "output_type": "stream",
     "text": [
      "\n"
     ]
    }
   ],
   "source": [
    "y_pred = predict(X_test, model, tokenizer)\n"
   ]
  },
  {
   "cell_type": "markdown",
   "id": "754491a3",
   "metadata": {
    "papermill": {
     "duration": 0.176801,
     "end_time": "2024-03-01T12:36:15.255688",
     "exception": false,
     "start_time": "2024-03-01T12:36:15.078887",
     "status": "completed"
    },
    "tags": []
   },
   "source": [
    "The following code will create a Pandas DataFrame called evaluation containing the text, true labels, and predicted labels from the test set. This is expectially useful for understanding the errors that the fine-tuned model makes, and gettting insights on how to improve the prompt."
   ]
  },
  {
   "cell_type": "code",
   "execution_count": 21,
   "id": "1083314ec151811e",
   "metadata": {
    "ExecuteTime": {
     "end_time": "2024-03-02T07:30:16.535495Z",
     "start_time": "2024-03-02T07:30:16.522341Z"
    },
    "collapsed": false,
    "jupyter": {
     "outputs_hidden": false
    }
   },
   "outputs": [
    {
     "name": "stdout",
     "output_type": "stream",
     "text": [
      "Accuracy: 0.788\n",
      "Accuracy for label 1: 0.807\n",
      "Accuracy for label -1: 0.770\n",
      "\n",
      "Classification Report:\n",
      "              precision    recall  f1-score   support\n",
      "\n",
      "          -1       0.80      0.77      0.78       300\n",
      "           1       0.78      0.81      0.79       300\n",
      "\n",
      "    accuracy                           0.79       600\n",
      "   macro avg       0.79      0.79      0.79       600\n",
      "weighted avg       0.79      0.79      0.79       600\n",
      "\n",
      "ROC AUC for all labels: 0.788\n",
      "\n",
      "Confusion Matrix:\n",
      "[[242   0  58]\n",
      " [  0   0   0]\n",
      " [ 69   0 231]]\n"
     ]
    }
   ],
   "source": [
    "evaluate(y_true, y_pred)"
   ]
  },
  {
   "cell_type": "code",
   "execution_count": 1,
   "id": "a2632af9",
   "metadata": {
    "ExecuteTime": {
     "end_time": "2024-03-02T07:30:24.043798Z",
     "start_time": "2024-03-02T07:30:24.022922Z"
    },
    "papermill": {
     "duration": 0.207555,
     "end_time": "2024-03-01T12:36:15.641158",
     "exception": false,
     "start_time": "2024-03-01T12:36:15.433603",
     "status": "completed"
    },
    "tags": []
   },
   "outputs": [
    {
     "ename": "NameError",
     "evalue": "name 'pd' is not defined",
     "output_type": "error",
     "traceback": [
      "\u001b[0;31m---------------------------------------------------------------------------\u001b[0m",
      "\u001b[0;31mNameError\u001b[0m                                 Traceback (most recent call last)",
      "Cell \u001b[0;32mIn[1], line 1\u001b[0m\n\u001b[0;32m----> 1\u001b[0m evaluation \u001b[38;5;241m=\u001b[39m \u001b[43mpd\u001b[49m\u001b[38;5;241m.\u001b[39mDataFrame({\u001b[38;5;124m'\u001b[39m\u001b[38;5;124mtext\u001b[39m\u001b[38;5;124m'\u001b[39m: X_test[\u001b[38;5;124m\"\u001b[39m\u001b[38;5;124mtext\u001b[39m\u001b[38;5;124m\"\u001b[39m],\n\u001b[1;32m      2\u001b[0m                            \u001b[38;5;124m'\u001b[39m\u001b[38;5;124my_true\u001b[39m\u001b[38;5;124m'\u001b[39m: y_true,\n\u001b[1;32m      3\u001b[0m                            \u001b[38;5;124m'\u001b[39m\u001b[38;5;124my_pred\u001b[39m\u001b[38;5;124m'\u001b[39m: y_pred},\n\u001b[1;32m      4\u001b[0m                           )\n\u001b[1;32m      5\u001b[0m evaluation\u001b[38;5;241m.\u001b[39mto_csv(\u001b[38;5;124m\"\u001b[39m\u001b[38;5;124mtest_predictions.csv\u001b[39m\u001b[38;5;124m\"\u001b[39m, index\u001b[38;5;241m=\u001b[39m\u001b[38;5;28;01mFalse\u001b[39;00m)\n",
      "\u001b[0;31mNameError\u001b[0m: name 'pd' is not defined"
     ]
    }
   ],
   "source": [
    "evaluation = pd.DataFrame({'text': X_test[\"text\"],\n",
    "                           'y_true': y_true,\n",
    "                           'y_pred': y_pred},\n",
    "                          )\n",
    "evaluation.to_csv(\"test_predictions.csv\", index=False)"
   ]
  },
  {
   "cell_type": "code",
   "execution_count": null,
   "id": "d4d6deb1376f5373",
   "metadata": {
    "collapsed": false,
    "jupyter": {
     "outputs_hidden": false
    }
   },
   "outputs": [],
   "source": []
  },
  {
   "cell_type": "code",
   "execution_count": null,
   "id": "212c5e05-199d-4377-931d-41fc8b86a3ab",
   "metadata": {},
   "outputs": [],
   "source": []
  }
 ],
 "metadata": {
  "kaggle": {
   "accelerator": "gpu",
   "dataSources": [
    {
     "datasetId": 622510,
     "sourceId": 1192499,
     "sourceType": "datasetVersion"
    },
    {
     "isSourceIdPinned": true,
     "modelInstanceId": 8332,
     "sourceId": 11261,
     "sourceType": "modelInstanceVersion"
    }
   ],
   "isGpuEnabled": true,
   "isInternetEnabled": true,
   "language": "python",
   "sourceType": "notebook"
  },
  "kernelspec": {
   "display_name": "Python 3 (ipykernel)",
   "language": "python",
   "name": "python3"
  },
  "language_info": {
   "codemirror_mode": {
    "name": "ipython",
    "version": 3
   },
   "file_extension": ".py",
   "mimetype": "text/x-python",
   "name": "python",
   "nbconvert_exporter": "python",
   "pygments_lexer": "ipython3",
   "version": "3.12.1"
  },
  "papermill": {
   "default_parameters": {},
   "duration": 8523.124919,
   "end_time": "2024-03-01T12:36:18.762598",
   "environment_variables": {},
   "exception": null,
   "input_path": "__notebook__.ipynb",
   "output_path": "__notebook__.ipynb",
   "parameters": {},
   "start_time": "2024-03-01T10:14:15.637679",
   "version": "2.4.0"
  },
  "widgets": {
   "application/vnd.jupyter.widget-state+json": {
    "state": {
     "093fa194c28d4ea19e7601bd0f84a64b": {
      "model_module": "@jupyter-widgets/base",
      "model_module_version": "1.2.0",
      "model_name": "LayoutModel",
      "state": {
       "_model_module": "@jupyter-widgets/base",
       "_model_module_version": "1.2.0",
       "_model_name": "LayoutModel",
       "_view_count": null,
       "_view_module": "@jupyter-widgets/base",
       "_view_module_version": "1.2.0",
       "_view_name": "LayoutView",
       "align_content": null,
       "align_items": null,
       "align_self": null,
       "border": null,
       "bottom": null,
       "display": null,
       "flex": null,
       "flex_flow": null,
       "grid_area": null,
       "grid_auto_columns": null,
       "grid_auto_flow": null,
       "grid_auto_rows": null,
       "grid_column": null,
       "grid_gap": null,
       "grid_row": null,
       "grid_template_areas": null,
       "grid_template_columns": null,
       "grid_template_rows": null,
       "height": null,
       "justify_content": null,
       "justify_items": null,
       "left": null,
       "margin": null,
       "max_height": null,
       "max_width": null,
       "min_height": null,
       "min_width": null,
       "object_fit": null,
       "object_position": null,
       "order": null,
       "overflow": null,
       "overflow_x": null,
       "overflow_y": null,
       "padding": null,
       "right": null,
       "top": null,
       "visibility": null,
       "width": null
      }
     },
     "0b47403317db4ceea3415fa07d85b2a6": {
      "model_module": "@jupyter-widgets/controls",
      "model_module_version": "1.5.0",
      "model_name": "ProgressStyleModel",
      "state": {
       "_model_module": "@jupyter-widgets/controls",
       "_model_module_version": "1.5.0",
       "_model_name": "ProgressStyleModel",
       "_view_count": null,
       "_view_module": "@jupyter-widgets/base",
       "_view_module_version": "1.2.0",
       "_view_name": "StyleView",
       "bar_color": null,
       "description_width": ""
      }
     },
     "1f10dfea0b7542caa260e6172a9e5cc7": {
      "model_module": "@jupyter-widgets/controls",
      "model_module_version": "1.5.0",
      "model_name": "HTMLModel",
      "state": {
       "_dom_classes": [],
       "_model_module": "@jupyter-widgets/controls",
       "_model_module_version": "1.5.0",
       "_model_name": "HTMLModel",
       "_view_count": null,
       "_view_module": "@jupyter-widgets/controls",
       "_view_module_version": "1.5.0",
       "_view_name": "HTMLView",
       "description": "",
       "description_tooltip": null,
       "layout": "IPY_MODEL_50fb0eb4c60c42ffa6281314e6763013",
       "placeholder": "​",
       "style": "IPY_MODEL_cb4dbfee61294411ae3882d0a7105cc1",
       "value": "Map: 100%"
      }
     },
     "1fd6ed09995e42b9a38393cfc94e1896": {
      "model_module": "@jupyter-widgets/controls",
      "model_module_version": "1.5.0",
      "model_name": "FloatProgressModel",
      "state": {
       "_dom_classes": [],
       "_model_module": "@jupyter-widgets/controls",
       "_model_module_version": "1.5.0",
       "_model_name": "FloatProgressModel",
       "_view_count": null,
       "_view_module": "@jupyter-widgets/controls",
       "_view_module_version": "1.5.0",
       "_view_name": "ProgressView",
       "bar_style": "success",
       "description": "",
       "description_tooltip": null,
       "layout": "IPY_MODEL_5b5e5b9c66d4418e8b6c1e7d73b158a2",
       "max": 150,
       "min": 0,
       "orientation": "horizontal",
       "style": "IPY_MODEL_6af7243799794d78b26589290e78d65a",
       "value": 150
      }
     },
     "30114749d97d46f8bd98847852626961": {
      "model_module": "@jupyter-widgets/base",
      "model_module_version": "1.2.0",
      "model_name": "LayoutModel",
      "state": {
       "_model_module": "@jupyter-widgets/base",
       "_model_module_version": "1.2.0",
       "_model_name": "LayoutModel",
       "_view_count": null,
       "_view_module": "@jupyter-widgets/base",
       "_view_module_version": "1.2.0",
       "_view_name": "LayoutView",
       "align_content": null,
       "align_items": null,
       "align_self": null,
       "border": null,
       "bottom": null,
       "display": null,
       "flex": null,
       "flex_flow": null,
       "grid_area": null,
       "grid_auto_columns": null,
       "grid_auto_flow": null,
       "grid_auto_rows": null,
       "grid_column": null,
       "grid_gap": null,
       "grid_row": null,
       "grid_template_areas": null,
       "grid_template_columns": null,
       "grid_template_rows": null,
       "height": null,
       "justify_content": null,
       "justify_items": null,
       "left": null,
       "margin": null,
       "max_height": null,
       "max_width": null,
       "min_height": null,
       "min_width": null,
       "object_fit": null,
       "object_position": null,
       "order": null,
       "overflow": null,
       "overflow_x": null,
       "overflow_y": null,
       "padding": null,
       "right": null,
       "top": null,
       "visibility": null,
       "width": null
      }
     },
     "41dc99f795564d888dc44ec45fd60f75": {
      "model_module": "@jupyter-widgets/controls",
      "model_module_version": "1.5.0",
      "model_name": "HBoxModel",
      "state": {
       "_dom_classes": [],
       "_model_module": "@jupyter-widgets/controls",
       "_model_module_version": "1.5.0",
       "_model_name": "HBoxModel",
       "_view_count": null,
       "_view_module": "@jupyter-widgets/controls",
       "_view_module_version": "1.5.0",
       "_view_name": "HBoxView",
       "box_style": "",
       "children": [
        "IPY_MODEL_68104f64d7e74c8bba2fc00a1309e3f1",
        "IPY_MODEL_6cc1ba89f1b942fd9f7ddfc47a29a448",
        "IPY_MODEL_d043cbeaa4c747d698c2919d6dd1e8b4"
       ],
       "layout": "IPY_MODEL_d7a4ff2565ae4ecabde63866575f18b8"
      }
     },
     "44f3ffd7e4904ca18f08792c6b8e2bce": {
      "model_module": "@jupyter-widgets/base",
      "model_module_version": "1.2.0",
      "model_name": "LayoutModel",
      "state": {
       "_model_module": "@jupyter-widgets/base",
       "_model_module_version": "1.2.0",
       "_model_name": "LayoutModel",
       "_view_count": null,
       "_view_module": "@jupyter-widgets/base",
       "_view_module_version": "1.2.0",
       "_view_name": "LayoutView",
       "align_content": null,
       "align_items": null,
       "align_self": null,
       "border": null,
       "bottom": null,
       "display": null,
       "flex": null,
       "flex_flow": null,
       "grid_area": null,
       "grid_auto_columns": null,
       "grid_auto_flow": null,
       "grid_auto_rows": null,
       "grid_column": null,
       "grid_gap": null,
       "grid_row": null,
       "grid_template_areas": null,
       "grid_template_columns": null,
       "grid_template_rows": null,
       "height": null,
       "justify_content": null,
       "justify_items": null,
       "left": null,
       "margin": null,
       "max_height": null,
       "max_width": null,
       "min_height": null,
       "min_width": null,
       "object_fit": null,
       "object_position": null,
       "order": null,
       "overflow": null,
       "overflow_x": null,
       "overflow_y": null,
       "padding": null,
       "right": null,
       "top": null,
       "visibility": null,
       "width": null
      }
     },
     "49b2216e58f6414bb3158c6aa7968c1c": {
      "model_module": "@jupyter-widgets/controls",
      "model_module_version": "1.5.0",
      "model_name": "ProgressStyleModel",
      "state": {
       "_model_module": "@jupyter-widgets/controls",
       "_model_module_version": "1.5.0",
       "_model_name": "ProgressStyleModel",
       "_view_count": null,
       "_view_module": "@jupyter-widgets/base",
       "_view_module_version": "1.2.0",
       "_view_name": "StyleView",
       "bar_color": null,
       "description_width": ""
      }
     },
     "50fb0eb4c60c42ffa6281314e6763013": {
      "model_module": "@jupyter-widgets/base",
      "model_module_version": "1.2.0",
      "model_name": "LayoutModel",
      "state": {
       "_model_module": "@jupyter-widgets/base",
       "_model_module_version": "1.2.0",
       "_model_name": "LayoutModel",
       "_view_count": null,
       "_view_module": "@jupyter-widgets/base",
       "_view_module_version": "1.2.0",
       "_view_name": "LayoutView",
       "align_content": null,
       "align_items": null,
       "align_self": null,
       "border": null,
       "bottom": null,
       "display": null,
       "flex": null,
       "flex_flow": null,
       "grid_area": null,
       "grid_auto_columns": null,
       "grid_auto_flow": null,
       "grid_auto_rows": null,
       "grid_column": null,
       "grid_gap": null,
       "grid_row": null,
       "grid_template_areas": null,
       "grid_template_columns": null,
       "grid_template_rows": null,
       "height": null,
       "justify_content": null,
       "justify_items": null,
       "left": null,
       "margin": null,
       "max_height": null,
       "max_width": null,
       "min_height": null,
       "min_width": null,
       "object_fit": null,
       "object_position": null,
       "order": null,
       "overflow": null,
       "overflow_x": null,
       "overflow_y": null,
       "padding": null,
       "right": null,
       "top": null,
       "visibility": null,
       "width": null
      }
     },
     "56a2863b602f41bd8321456472042ebc": {
      "model_module": "@jupyter-widgets/controls",
      "model_module_version": "1.5.0",
      "model_name": "DescriptionStyleModel",
      "state": {
       "_model_module": "@jupyter-widgets/controls",
       "_model_module_version": "1.5.0",
       "_model_name": "DescriptionStyleModel",
       "_view_count": null,
       "_view_module": "@jupyter-widgets/base",
       "_view_module_version": "1.2.0",
       "_view_name": "StyleView",
       "description_width": ""
      }
     },
     "56adac82853a4e289e075d5b3ebd2d35": {
      "model_module": "@jupyter-widgets/controls",
      "model_module_version": "1.5.0",
      "model_name": "HBoxModel",
      "state": {
       "_dom_classes": [],
       "_model_module": "@jupyter-widgets/controls",
       "_model_module_version": "1.5.0",
       "_model_name": "HBoxModel",
       "_view_count": null,
       "_view_module": "@jupyter-widgets/controls",
       "_view_module_version": "1.5.0",
       "_view_name": "HBoxView",
       "box_style": "",
       "children": [
        "IPY_MODEL_84451f9de9a147318d1c84096477546f",
        "IPY_MODEL_1fd6ed09995e42b9a38393cfc94e1896",
        "IPY_MODEL_7d118f61264d444d898024e49314c7d7"
       ],
       "layout": "IPY_MODEL_44f3ffd7e4904ca18f08792c6b8e2bce"
      }
     },
     "5b5e5b9c66d4418e8b6c1e7d73b158a2": {
      "model_module": "@jupyter-widgets/base",
      "model_module_version": "1.2.0",
      "model_name": "LayoutModel",
      "state": {
       "_model_module": "@jupyter-widgets/base",
       "_model_module_version": "1.2.0",
       "_model_name": "LayoutModel",
       "_view_count": null,
       "_view_module": "@jupyter-widgets/base",
       "_view_module_version": "1.2.0",
       "_view_name": "LayoutView",
       "align_content": null,
       "align_items": null,
       "align_self": null,
       "border": null,
       "bottom": null,
       "display": null,
       "flex": null,
       "flex_flow": null,
       "grid_area": null,
       "grid_auto_columns": null,
       "grid_auto_flow": null,
       "grid_auto_rows": null,
       "grid_column": null,
       "grid_gap": null,
       "grid_row": null,
       "grid_template_areas": null,
       "grid_template_columns": null,
       "grid_template_rows": null,
       "height": null,
       "justify_content": null,
       "justify_items": null,
       "left": null,
       "margin": null,
       "max_height": null,
       "max_width": null,
       "min_height": null,
       "min_width": null,
       "object_fit": null,
       "object_position": null,
       "order": null,
       "overflow": null,
       "overflow_x": null,
       "overflow_y": null,
       "padding": null,
       "right": null,
       "top": null,
       "visibility": null,
       "width": null
      }
     },
     "68104f64d7e74c8bba2fc00a1309e3f1": {
      "model_module": "@jupyter-widgets/controls",
      "model_module_version": "1.5.0",
      "model_name": "HTMLModel",
      "state": {
       "_dom_classes": [],
       "_model_module": "@jupyter-widgets/controls",
       "_model_module_version": "1.5.0",
       "_model_name": "HTMLModel",
       "_view_count": null,
       "_view_module": "@jupyter-widgets/controls",
       "_view_module_version": "1.5.0",
       "_view_name": "HTMLView",
       "description": "",
       "description_tooltip": null,
       "layout": "IPY_MODEL_093fa194c28d4ea19e7601bd0f84a64b",
       "placeholder": "​",
       "style": "IPY_MODEL_56a2863b602f41bd8321456472042ebc",
       "value": "Loading checkpoint shards: 100%"
      }
     },
     "6af7243799794d78b26589290e78d65a": {
      "model_module": "@jupyter-widgets/controls",
      "model_module_version": "1.5.0",
      "model_name": "ProgressStyleModel",
      "state": {
       "_model_module": "@jupyter-widgets/controls",
       "_model_module_version": "1.5.0",
       "_model_name": "ProgressStyleModel",
       "_view_count": null,
       "_view_module": "@jupyter-widgets/base",
       "_view_module_version": "1.2.0",
       "_view_name": "StyleView",
       "bar_color": null,
       "description_width": ""
      }
     },
     "6cc1ba89f1b942fd9f7ddfc47a29a448": {
      "model_module": "@jupyter-widgets/controls",
      "model_module_version": "1.5.0",
      "model_name": "FloatProgressModel",
      "state": {
       "_dom_classes": [],
       "_model_module": "@jupyter-widgets/controls",
       "_model_module_version": "1.5.0",
       "_model_name": "FloatProgressModel",
       "_view_count": null,
       "_view_module": "@jupyter-widgets/controls",
       "_view_module_version": "1.5.0",
       "_view_name": "ProgressView",
       "bar_style": "success",
       "description": "",
       "description_tooltip": null,
       "layout": "IPY_MODEL_30114749d97d46f8bd98847852626961",
       "max": 4,
       "min": 0,
       "orientation": "horizontal",
       "style": "IPY_MODEL_49b2216e58f6414bb3158c6aa7968c1c",
       "value": 4
      }
     },
     "7021a44ac3e349b0b9e426fda0bcf170": {
      "model_module": "@jupyter-widgets/controls",
      "model_module_version": "1.5.0",
      "model_name": "DescriptionStyleModel",
      "state": {
       "_model_module": "@jupyter-widgets/controls",
       "_model_module_version": "1.5.0",
       "_model_name": "DescriptionStyleModel",
       "_view_count": null,
       "_view_module": "@jupyter-widgets/base",
       "_view_module_version": "1.2.0",
       "_view_name": "StyleView",
       "description_width": ""
      }
     },
     "78415bbd42494dc486ac762bc2ee1dfc": {
      "model_module": "@jupyter-widgets/controls",
      "model_module_version": "1.5.0",
      "model_name": "DescriptionStyleModel",
      "state": {
       "_model_module": "@jupyter-widgets/controls",
       "_model_module_version": "1.5.0",
       "_model_name": "DescriptionStyleModel",
       "_view_count": null,
       "_view_module": "@jupyter-widgets/base",
       "_view_module_version": "1.2.0",
       "_view_name": "StyleView",
       "description_width": ""
      }
     },
     "7b908fd745aa4281ba38f45b8bbbe2c8": {
      "model_module": "@jupyter-widgets/base",
      "model_module_version": "1.2.0",
      "model_name": "LayoutModel",
      "state": {
       "_model_module": "@jupyter-widgets/base",
       "_model_module_version": "1.2.0",
       "_model_name": "LayoutModel",
       "_view_count": null,
       "_view_module": "@jupyter-widgets/base",
       "_view_module_version": "1.2.0",
       "_view_name": "LayoutView",
       "align_content": null,
       "align_items": null,
       "align_self": null,
       "border": null,
       "bottom": null,
       "display": null,
       "flex": null,
       "flex_flow": null,
       "grid_area": null,
       "grid_auto_columns": null,
       "grid_auto_flow": null,
       "grid_auto_rows": null,
       "grid_column": null,
       "grid_gap": null,
       "grid_row": null,
       "grid_template_areas": null,
       "grid_template_columns": null,
       "grid_template_rows": null,
       "height": null,
       "justify_content": null,
       "justify_items": null,
       "left": null,
       "margin": null,
       "max_height": null,
       "max_width": null,
       "min_height": null,
       "min_width": null,
       "object_fit": null,
       "object_position": null,
       "order": null,
       "overflow": null,
       "overflow_x": null,
       "overflow_y": null,
       "padding": null,
       "right": null,
       "top": null,
       "visibility": null,
       "width": null
      }
     },
     "7d118f61264d444d898024e49314c7d7": {
      "model_module": "@jupyter-widgets/controls",
      "model_module_version": "1.5.0",
      "model_name": "HTMLModel",
      "state": {
       "_dom_classes": [],
       "_model_module": "@jupyter-widgets/controls",
       "_model_module_version": "1.5.0",
       "_model_name": "HTMLModel",
       "_view_count": null,
       "_view_module": "@jupyter-widgets/controls",
       "_view_module_version": "1.5.0",
       "_view_name": "HTMLView",
       "description": "",
       "description_tooltip": null,
       "layout": "IPY_MODEL_7b908fd745aa4281ba38f45b8bbbe2c8",
       "placeholder": "​",
       "style": "IPY_MODEL_78415bbd42494dc486ac762bc2ee1dfc",
       "value": " 150/150 [00:00&lt;00:00, 2914.64 examples/s]"
      }
     },
     "84451f9de9a147318d1c84096477546f": {
      "model_module": "@jupyter-widgets/controls",
      "model_module_version": "1.5.0",
      "model_name": "HTMLModel",
      "state": {
       "_dom_classes": [],
       "_model_module": "@jupyter-widgets/controls",
       "_model_module_version": "1.5.0",
       "_model_name": "HTMLModel",
       "_view_count": null,
       "_view_module": "@jupyter-widgets/controls",
       "_view_module_version": "1.5.0",
       "_view_name": "HTMLView",
       "description": "",
       "description_tooltip": null,
       "layout": "IPY_MODEL_a9dbdd2fdc2c4895b2b94b6a390ba327",
       "placeholder": "​",
       "style": "IPY_MODEL_8f3441662823466fbf450a73a7975cd8",
       "value": "Map: 100%"
      }
     },
     "8bec99ccd210477e89e6cb623fba5818": {
      "model_module": "@jupyter-widgets/base",
      "model_module_version": "1.2.0",
      "model_name": "LayoutModel",
      "state": {
       "_model_module": "@jupyter-widgets/base",
       "_model_module_version": "1.2.0",
       "_model_name": "LayoutModel",
       "_view_count": null,
       "_view_module": "@jupyter-widgets/base",
       "_view_module_version": "1.2.0",
       "_view_name": "LayoutView",
       "align_content": null,
       "align_items": null,
       "align_self": null,
       "border": null,
       "bottom": null,
       "display": null,
       "flex": null,
       "flex_flow": null,
       "grid_area": null,
       "grid_auto_columns": null,
       "grid_auto_flow": null,
       "grid_auto_rows": null,
       "grid_column": null,
       "grid_gap": null,
       "grid_row": null,
       "grid_template_areas": null,
       "grid_template_columns": null,
       "grid_template_rows": null,
       "height": null,
       "justify_content": null,
       "justify_items": null,
       "left": null,
       "margin": null,
       "max_height": null,
       "max_width": null,
       "min_height": null,
       "min_width": null,
       "object_fit": null,
       "object_position": null,
       "order": null,
       "overflow": null,
       "overflow_x": null,
       "overflow_y": null,
       "padding": null,
       "right": null,
       "top": null,
       "visibility": null,
       "width": null
      }
     },
     "8f3441662823466fbf450a73a7975cd8": {
      "model_module": "@jupyter-widgets/controls",
      "model_module_version": "1.5.0",
      "model_name": "DescriptionStyleModel",
      "state": {
       "_model_module": "@jupyter-widgets/controls",
       "_model_module_version": "1.5.0",
       "_model_name": "DescriptionStyleModel",
       "_view_count": null,
       "_view_module": "@jupyter-widgets/base",
       "_view_module_version": "1.2.0",
       "_view_name": "StyleView",
       "description_width": ""
      }
     },
     "a1cb207746f64570bbfa9f0b23d81b02": {
      "model_module": "@jupyter-widgets/controls",
      "model_module_version": "1.5.0",
      "model_name": "DescriptionStyleModel",
      "state": {
       "_model_module": "@jupyter-widgets/controls",
       "_model_module_version": "1.5.0",
       "_model_name": "DescriptionStyleModel",
       "_view_count": null,
       "_view_module": "@jupyter-widgets/base",
       "_view_module_version": "1.2.0",
       "_view_name": "StyleView",
       "description_width": ""
      }
     },
     "a9dbdd2fdc2c4895b2b94b6a390ba327": {
      "model_module": "@jupyter-widgets/base",
      "model_module_version": "1.2.0",
      "model_name": "LayoutModel",
      "state": {
       "_model_module": "@jupyter-widgets/base",
       "_model_module_version": "1.2.0",
       "_model_name": "LayoutModel",
       "_view_count": null,
       "_view_module": "@jupyter-widgets/base",
       "_view_module_version": "1.2.0",
       "_view_name": "LayoutView",
       "align_content": null,
       "align_items": null,
       "align_self": null,
       "border": null,
       "bottom": null,
       "display": null,
       "flex": null,
       "flex_flow": null,
       "grid_area": null,
       "grid_auto_columns": null,
       "grid_auto_flow": null,
       "grid_auto_rows": null,
       "grid_column": null,
       "grid_gap": null,
       "grid_row": null,
       "grid_template_areas": null,
       "grid_template_columns": null,
       "grid_template_rows": null,
       "height": null,
       "justify_content": null,
       "justify_items": null,
       "left": null,
       "margin": null,
       "max_height": null,
       "max_width": null,
       "min_height": null,
       "min_width": null,
       "object_fit": null,
       "object_position": null,
       "order": null,
       "overflow": null,
       "overflow_x": null,
       "overflow_y": null,
       "padding": null,
       "right": null,
       "top": null,
       "visibility": null,
       "width": null
      }
     },
     "c4b91b754d5e428b815ad467b298ce9f": {
      "model_module": "@jupyter-widgets/controls",
      "model_module_version": "1.5.0",
      "model_name": "HTMLModel",
      "state": {
       "_dom_classes": [],
       "_model_module": "@jupyter-widgets/controls",
       "_model_module_version": "1.5.0",
       "_model_name": "HTMLModel",
       "_view_count": null,
       "_view_module": "@jupyter-widgets/controls",
       "_view_module_version": "1.5.0",
       "_view_name": "HTMLView",
       "description": "",
       "description_tooltip": null,
       "layout": "IPY_MODEL_8bec99ccd210477e89e6cb623fba5818",
       "placeholder": "​",
       "style": "IPY_MODEL_a1cb207746f64570bbfa9f0b23d81b02",
       "value": " 900/900 [00:00&lt;00:00, 3245.25 examples/s]"
      }
     },
     "cb4dbfee61294411ae3882d0a7105cc1": {
      "model_module": "@jupyter-widgets/controls",
      "model_module_version": "1.5.0",
      "model_name": "DescriptionStyleModel",
      "state": {
       "_model_module": "@jupyter-widgets/controls",
       "_model_module_version": "1.5.0",
       "_model_name": "DescriptionStyleModel",
       "_view_count": null,
       "_view_module": "@jupyter-widgets/base",
       "_view_module_version": "1.2.0",
       "_view_name": "StyleView",
       "description_width": ""
      }
     },
     "cbcc43ff7d754e90918956e5ad237f69": {
      "model_module": "@jupyter-widgets/base",
      "model_module_version": "1.2.0",
      "model_name": "LayoutModel",
      "state": {
       "_model_module": "@jupyter-widgets/base",
       "_model_module_version": "1.2.0",
       "_model_name": "LayoutModel",
       "_view_count": null,
       "_view_module": "@jupyter-widgets/base",
       "_view_module_version": "1.2.0",
       "_view_name": "LayoutView",
       "align_content": null,
       "align_items": null,
       "align_self": null,
       "border": null,
       "bottom": null,
       "display": null,
       "flex": null,
       "flex_flow": null,
       "grid_area": null,
       "grid_auto_columns": null,
       "grid_auto_flow": null,
       "grid_auto_rows": null,
       "grid_column": null,
       "grid_gap": null,
       "grid_row": null,
       "grid_template_areas": null,
       "grid_template_columns": null,
       "grid_template_rows": null,
       "height": null,
       "justify_content": null,
       "justify_items": null,
       "left": null,
       "margin": null,
       "max_height": null,
       "max_width": null,
       "min_height": null,
       "min_width": null,
       "object_fit": null,
       "object_position": null,
       "order": null,
       "overflow": null,
       "overflow_x": null,
       "overflow_y": null,
       "padding": null,
       "right": null,
       "top": null,
       "visibility": null,
       "width": null
      }
     },
     "d043cbeaa4c747d698c2919d6dd1e8b4": {
      "model_module": "@jupyter-widgets/controls",
      "model_module_version": "1.5.0",
      "model_name": "HTMLModel",
      "state": {
       "_dom_classes": [],
       "_model_module": "@jupyter-widgets/controls",
       "_model_module_version": "1.5.0",
       "_model_name": "HTMLModel",
       "_view_count": null,
       "_view_module": "@jupyter-widgets/controls",
       "_view_module_version": "1.5.0",
       "_view_name": "HTMLView",
       "description": "",
       "description_tooltip": null,
       "layout": "IPY_MODEL_cbcc43ff7d754e90918956e5ad237f69",
       "placeholder": "​",
       "style": "IPY_MODEL_7021a44ac3e349b0b9e426fda0bcf170",
       "value": " 4/4 [02:05&lt;00:00, 28.09s/it]"
      }
     },
     "d3dd8230d1b64da3aa61061e24923087": {
      "model_module": "@jupyter-widgets/base",
      "model_module_version": "1.2.0",
      "model_name": "LayoutModel",
      "state": {
       "_model_module": "@jupyter-widgets/base",
       "_model_module_version": "1.2.0",
       "_model_name": "LayoutModel",
       "_view_count": null,
       "_view_module": "@jupyter-widgets/base",
       "_view_module_version": "1.2.0",
       "_view_name": "LayoutView",
       "align_content": null,
       "align_items": null,
       "align_self": null,
       "border": null,
       "bottom": null,
       "display": null,
       "flex": null,
       "flex_flow": null,
       "grid_area": null,
       "grid_auto_columns": null,
       "grid_auto_flow": null,
       "grid_auto_rows": null,
       "grid_column": null,
       "grid_gap": null,
       "grid_row": null,
       "grid_template_areas": null,
       "grid_template_columns": null,
       "grid_template_rows": null,
       "height": null,
       "justify_content": null,
       "justify_items": null,
       "left": null,
       "margin": null,
       "max_height": null,
       "max_width": null,
       "min_height": null,
       "min_width": null,
       "object_fit": null,
       "object_position": null,
       "order": null,
       "overflow": null,
       "overflow_x": null,
       "overflow_y": null,
       "padding": null,
       "right": null,
       "top": null,
       "visibility": null,
       "width": null
      }
     },
     "d7a4ff2565ae4ecabde63866575f18b8": {
      "model_module": "@jupyter-widgets/base",
      "model_module_version": "1.2.0",
      "model_name": "LayoutModel",
      "state": {
       "_model_module": "@jupyter-widgets/base",
       "_model_module_version": "1.2.0",
       "_model_name": "LayoutModel",
       "_view_count": null,
       "_view_module": "@jupyter-widgets/base",
       "_view_module_version": "1.2.0",
       "_view_name": "LayoutView",
       "align_content": null,
       "align_items": null,
       "align_self": null,
       "border": null,
       "bottom": null,
       "display": null,
       "flex": null,
       "flex_flow": null,
       "grid_area": null,
       "grid_auto_columns": null,
       "grid_auto_flow": null,
       "grid_auto_rows": null,
       "grid_column": null,
       "grid_gap": null,
       "grid_row": null,
       "grid_template_areas": null,
       "grid_template_columns": null,
       "grid_template_rows": null,
       "height": null,
       "justify_content": null,
       "justify_items": null,
       "left": null,
       "margin": null,
       "max_height": null,
       "max_width": null,
       "min_height": null,
       "min_width": null,
       "object_fit": null,
       "object_position": null,
       "order": null,
       "overflow": null,
       "overflow_x": null,
       "overflow_y": null,
       "padding": null,
       "right": null,
       "top": null,
       "visibility": null,
       "width": null
      }
     },
     "deda9a35851549d187b5e17c6c60bebe": {
      "model_module": "@jupyter-widgets/controls",
      "model_module_version": "1.5.0",
      "model_name": "FloatProgressModel",
      "state": {
       "_dom_classes": [],
       "_model_module": "@jupyter-widgets/controls",
       "_model_module_version": "1.5.0",
       "_model_name": "FloatProgressModel",
       "_view_count": null,
       "_view_module": "@jupyter-widgets/controls",
       "_view_module_version": "1.5.0",
       "_view_name": "ProgressView",
       "bar_style": "success",
       "description": "",
       "description_tooltip": null,
       "layout": "IPY_MODEL_d3dd8230d1b64da3aa61061e24923087",
       "max": 900,
       "min": 0,
       "orientation": "horizontal",
       "style": "IPY_MODEL_0b47403317db4ceea3415fa07d85b2a6",
       "value": 900
      }
     },
     "ed33c54938714e20a68b8d1b4314cba9": {
      "model_module": "@jupyter-widgets/controls",
      "model_module_version": "1.5.0",
      "model_name": "HBoxModel",
      "state": {
       "_dom_classes": [],
       "_model_module": "@jupyter-widgets/controls",
       "_model_module_version": "1.5.0",
       "_model_name": "HBoxModel",
       "_view_count": null,
       "_view_module": "@jupyter-widgets/controls",
       "_view_module_version": "1.5.0",
       "_view_name": "HBoxView",
       "box_style": "",
       "children": [
        "IPY_MODEL_1f10dfea0b7542caa260e6172a9e5cc7",
        "IPY_MODEL_deda9a35851549d187b5e17c6c60bebe",
        "IPY_MODEL_c4b91b754d5e428b815ad467b298ce9f"
       ],
       "layout": "IPY_MODEL_f229249393e6461692218197c6feaeec"
      }
     },
     "f229249393e6461692218197c6feaeec": {
      "model_module": "@jupyter-widgets/base",
      "model_module_version": "1.2.0",
      "model_name": "LayoutModel",
      "state": {
       "_model_module": "@jupyter-widgets/base",
       "_model_module_version": "1.2.0",
       "_model_name": "LayoutModel",
       "_view_count": null,
       "_view_module": "@jupyter-widgets/base",
       "_view_module_version": "1.2.0",
       "_view_name": "LayoutView",
       "align_content": null,
       "align_items": null,
       "align_self": null,
       "border": null,
       "bottom": null,
       "display": null,
       "flex": null,
       "flex_flow": null,
       "grid_area": null,
       "grid_auto_columns": null,
       "grid_auto_flow": null,
       "grid_auto_rows": null,
       "grid_column": null,
       "grid_gap": null,
       "grid_row": null,
       "grid_template_areas": null,
       "grid_template_columns": null,
       "grid_template_rows": null,
       "height": null,
       "justify_content": null,
       "justify_items": null,
       "left": null,
       "margin": null,
       "max_height": null,
       "max_width": null,
       "min_height": null,
       "min_width": null,
       "object_fit": null,
       "object_position": null,
       "order": null,
       "overflow": null,
       "overflow_x": null,
       "overflow_y": null,
       "padding": null,
       "right": null,
       "top": null,
       "visibility": null,
       "width": null
      }
     }
    },
    "version_major": 2,
    "version_minor": 0
   }
  }
 },
 "nbformat": 4,
 "nbformat_minor": 5
}
